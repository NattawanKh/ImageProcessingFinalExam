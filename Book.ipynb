{
 "cells": [
  {
   "cell_type": "code",
   "execution_count": 52,
   "metadata": {},
   "outputs": [],
   "source": [
    "import numpy as np\n",
    "import cv2\n",
    "import os"
   ]
  },
  {
   "cell_type": "code",
   "execution_count": 53,
   "metadata": {},
   "outputs": [],
   "source": [
    "# Define Image to Use\n",
    "#cap = cv2.VideoCapture('left_output-1.avi')\n",
    "cap = cv2.VideoCapture('left_output-1.avi')\n",
    "cap.set(cv2.CAP_PROP_FRAME_WIDTH, 1280)\n",
    "cap.set(cv2.CAP_PROP_FRAME_HEIGHT, 720)\n",
    "#find_book = cv2.imread('find/Tem.png')\n",
    "find_book = cv2.imread('find/temlow.png')\n",
    "template = cv2.imread('find/Template-1.png')\n",
    "gray_book = cv2.cvtColor(find_book,cv2.COLOR_BGR2GRAY)\n",
    "book_ref = cv2.cvtColor(gray_book,cv2.COLOR_BGR2RGB)\n"
   ]
  },
  {
   "cell_type": "code",
   "execution_count": 54,
   "metadata": {},
   "outputs": [],
   "source": [
    "while cap.isOpened() :\n",
    "    ret, frame = cap.read()\n",
    "    if ret :\n",
    "        vid = frame.copy()\n",
    "        gray_vid = cv2.cvtColor(vid,cv2.COLOR_BGR2GRAY)\n",
    "        #--------------------------------------------------\n",
    "        w, h = gray_book.shape[::-1]\n",
    "        result = cv2.matchTemplate(gray_vid,gray_book, cv2.TM_CCOEFF_NORMED)\n",
    "        min_val, max_val, min_loc, max_loc = cv2.minMaxLoc(result)\n",
    "        # Top left x and y coordinates.\n",
    "        x1, y1 = max_loc\n",
    "        # Bottom right x and y coordinates.\n",
    "        x2, y2 = (x1 + w, y1 + h)\n",
    "        cv2.rectangle(vid, (x1, y1), (x2, y2), (80, 255, 80), 2)\n",
    "        myx = x2/1280\n",
    "        myx = ('%.2f' %myx)\n",
    "        myy = y2/720\n",
    "        myy = ('%.2f' %myy)\n",
    "        textX = \"X:\" + str(myx)\n",
    "        textY = \"Y:\"+str(myy)\n",
    "        #--------------------------------------------------\n",
    "        vid = cv2.putText(vid, textX, (x1, y1-50), cv2.FONT_HERSHEY_SIMPLEX,  0.75, (0, 0, 255), 2, cv2.LINE_AA)\n",
    "        vid = cv2.putText(vid, textY, (x1, y1-10), cv2.FONT_HERSHEY_SIMPLEX,  0.75, (0, 0, 255), 2, cv2.LINE_AA)\n",
    "        cv2.imshow(\"Find It\", template)\n",
    "        cv2.imshow(\"Detect\", vid)\n",
    "\n",
    "        #--------------------------------------------------\n",
    "\n",
    "        if cv2.waitKey(1) & 0xff == ord('q'):\n",
    "\n",
    "            break\n",
    "    else :\n",
    "        break\n",
    "cv2.destroyAllWindows()\n",
    "cap.release()"
   ]
  }
 ],
 "metadata": {
  "kernelspec": {
   "display_name": "myenv",
   "language": "python",
   "name": "python3"
  },
  "language_info": {
   "codemirror_mode": {
    "name": "ipython",
    "version": 3
   },
   "file_extension": ".py",
   "mimetype": "text/x-python",
   "name": "python",
   "nbconvert_exporter": "python",
   "pygments_lexer": "ipython3",
   "version": "3.10.6"
  },
  "orig_nbformat": 4,
  "vscode": {
   "interpreter": {
    "hash": "cd65400cfd04a46f61557a0ab781b98583eb023737fd95b9a0f89962e2baf204"
   }
  }
 },
 "nbformat": 4,
 "nbformat_minor": 2
}
